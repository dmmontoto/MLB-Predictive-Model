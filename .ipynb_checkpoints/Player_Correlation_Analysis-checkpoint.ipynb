{
 "cells": [
  {
   "cell_type": "markdown",
   "metadata": {},
   "source": [
    "# MLB Player Performance Correlation Analysis\n",
    "\n",
    "### By David Montoto"
   ]
  },
  {
   "cell_type": "markdown",
   "metadata": {},
   "source": [
    "## Abstract: \n",
    "This analysis aims to investigate the correlation between individual player performance, measured by Wins Above Replacement (WAR), and team success metrics in Major League Baseball (MLB). Using a comprehensive dataset that includes player WAR, team win-loss records, playoff appearances, and championships, we calculate correlation coefficients to quantify the relationship between these variables. By visualizing the data through scatter plots with regression lines and performing statistical tests, we assess the significance of the observed correlations. This study provides insights into the impact of star players on team performance, offering valuable information for team management and strategic decision-making in professional baseball.\n",
    "\n",
    "## Goal:\n",
    "1. Analyze Player Impact: Examine how the performance of top players influences overall team success, employing regression and feature importance analysis"
   ]
  },
  {
   "cell_type": "markdown",
   "metadata": {},
   "source": [
    "### Data Cleaning and Preprocessing"
   ]
  },
  {
   "cell_type": "code",
   "execution_count": null,
   "metadata": {},
   "outputs": [],
   "source": [
    "import pandas as pd\n",
    "import numpy as np\n",
    "import matplotlib.pyplot as plt\n",
    "import seaborn as sns"
   ]
  },
  {
   "cell_type": "code",
   "execution_count": null,
   "metadata": {},
   "outputs": [],
   "source": [
    "df = pd.read_csv('baseballdata.csv')"
   ]
  }
 ],
 "metadata": {
  "language_info": {
   "name": "python"
  }
 },
 "nbformat": 4,
 "nbformat_minor": 2
}
