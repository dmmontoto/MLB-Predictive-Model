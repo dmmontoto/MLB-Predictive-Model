{
 "cells": [
  {
   "attachments": {},
   "cell_type": "markdown",
   "metadata": {},
   "source": [
    "# MLB Predictive Analysis\n",
    "\n",
    "### By David Montoto"
   ]
  },
  {
   "attachments": {},
   "cell_type": "markdown",
   "metadata": {},
   "source": [
    "## Abstract\n",
    "This project utilizes Python to develop and implement a machine learning solution aimed at uncovering information within historical Major League Baseball (MLB) data. The primary objectives are the following: first, to create a predictive model that determines the likelihood of a manager's success based on various historical performance metrics; second, to analyze the impact of top players on overall team success. Using a dataset spanning from 1870 to 2016, we apply a range of machine learning techniques to build models for predicting managerial success and conducting regression analysis to explore the influence of key player performance. The results provide valuable insights into the factors driving team performance, offering practical implications for team management and strategic decision-making in MLB. Through detailed data preprocessing, exploratory data analysis, and rigorous model evaluation, this project demonstrates the effective use of machine learning in sports analytics.\n",
    "\n",
    "## Goal\n",
    "The goal of this assignment is to leverage Python to develop and implement a comprehensive machine learning project that involves building predictive models and conducting detailed data analysis. Specifically, the project aims to:\n",
    "\n",
    "1. Predict Managerial Success: Create a predictive model to determine the likelihood of a manager's success based on historical MLB data, using various machine learning techniques\n",
    "\n",
    "2. Analyze Player Impact: Examine how the performance of top players influences overall team success, employing regression and feature importance analysis"
   ]
  },
  {
   "attachments": {},
   "cell_type": "markdown",
   "metadata": {},
   "source": [
    "#### Data Cleaning and Preprocessing\n"
   ]
  },
  {
   "cell_type": "code",
   "execution_count": 1,
   "metadata": {
    "vscode": {
     "languageId": "plaintext"
    }
   },
   "outputs": [],
   "source": [
    "import pandas as pd \n",
    "import numpy as np \n",
    "import matplotlib.pyplot as plt\n",
    "import seaborn as sns\n",
    "from scipy import stats\n",
    "from sklearn.preprocessing import StandardScaler\n",
    "from sklearn.model_selection import train_test_split"
   ]
  },
  {
   "cell_type": "markdown",
   "metadata": {},
   "source": [
    "##### Load and Examine Data "
   ]
  },
  {
   "cell_type": "code",
   "execution_count": 3,
   "metadata": {
    "vscode": {
     "languageId": "plaintext"
    }
   },
   "outputs": [
    {
     "name": "stdout",
     "output_type": "stream",
     "text": [
      "   Unnamed: 0  Rk  Year                    Tm       Lg    G   W   L  Ties  \\\n",
      "0           1   1  2016  Arizona Diamondbacks  NL West  162  69  93     0   \n",
      "1           2   2  2015  Arizona Diamondbacks  NL West  162  79  83     0   \n",
      "2           3   3  2014  Arizona Diamondbacks  NL West  162  64  98     0   \n",
      "3           4   4  2013  Arizona Diamondbacks  NL West  162  81  81     0   \n",
      "4           5   5  2012  Arizona Diamondbacks  NL West  162  81  81     0   \n",
      "\n",
      "    W.L.  ...    R   RA Attendance BatAge  PAge  X.Bat X.P  \\\n",
      "0  0.426  ...  752  890  2,036,216   26.7  26.4     50  29   \n",
      "1  0.488  ...  720  713  2,080,145   26.6  27.1     50  27   \n",
      "2  0.395  ...  615  742  2,073,730   27.6  28.0     52  25   \n",
      "3  0.500  ...  685  695  2,134,895   28.1  27.6     44  23   \n",
      "4  0.500  ...  734  688  2,177,617   28.3  27.4     48  23   \n",
      "\n",
      "            Top.Player                               Managers  \\\n",
      "0       J.Segura (5.7)                         C.Hale (69-93)   \n",
      "1  P.Goldschmidt (8.8)                         C.Hale (79-83)   \n",
      "2  P.Goldschmidt (4.5)  K.Gibson (63-96) and A.Trammell (1-2)   \n",
      "3  P.Goldschmidt (7.1)                       K.Gibson (81-81)   \n",
      "4         A.Hill (5.0)                       K.Gibson (81-81)   \n",
      "\n",
      "                current  \n",
      "0  Arizona Diamondbacks  \n",
      "1  Arizona Diamondbacks  \n",
      "2  Arizona Diamondbacks  \n",
      "3  Arizona Diamondbacks  \n",
      "4  Arizona Diamondbacks  \n",
      "\n",
      "[5 rows x 24 columns]\n",
      "<class 'pandas.core.frame.DataFrame'>\n",
      "RangeIndex: 2594 entries, 0 to 2593\n",
      "Data columns (total 24 columns):\n",
      " #   Column      Non-Null Count  Dtype  \n",
      "---  ------      --------------  -----  \n",
      " 0   Unnamed: 0  2594 non-null   int64  \n",
      " 1   Rk          2594 non-null   int64  \n",
      " 2   Year        2594 non-null   int64  \n",
      " 3   Tm          2594 non-null   object \n",
      " 4   Lg          2594 non-null   object \n",
      " 5   G           2594 non-null   int64  \n",
      " 6   W           2594 non-null   int64  \n",
      " 7   L           2594 non-null   int64  \n",
      " 8   Ties        2594 non-null   int64  \n",
      " 9   W.L.        2594 non-null   float64\n",
      " 10  pythW.L.    2594 non-null   float64\n",
      " 11  Finish      2594 non-null   object \n",
      " 12  GB          2594 non-null   object \n",
      " 13  Playoffs    431 non-null    object \n",
      " 14  R           2594 non-null   int64  \n",
      " 15  RA          2594 non-null   int64  \n",
      " 16  Attendance  2520 non-null   object \n",
      " 17  BatAge      2594 non-null   float64\n",
      " 18  PAge        2594 non-null   float64\n",
      " 19  X.Bat       2594 non-null   int64  \n",
      " 20  X.P         2594 non-null   int64  \n",
      " 21  Top.Player  2594 non-null   object \n",
      " 22  Managers    2594 non-null   object \n",
      " 23  current     2594 non-null   object \n",
      "dtypes: float64(4), int64(11), object(9)\n",
      "memory usage: 486.5+ KB\n",
      "None\n"
     ]
    }
   ],
   "source": [
    "df = pd.read_csv('baseballdata.csv')\n",
    "\n",
    "# Inspect first few rows\n",
    "print(df.head())\n",
    "\n",
    "# Inspect dataset info\n",
    "print(df.info())"
   ]
  },
  {
   "cell_type": "code",
   "execution_count": 5,
   "metadata": {},
   "outputs": [
    {
     "name": "stdout",
     "output_type": "stream",
     "text": [
      "Unnamed: 0       0\n",
      "Rk               0\n",
      "Year             0\n",
      "Tm               0\n",
      "Lg               0\n",
      "G                0\n",
      "W                0\n",
      "L                0\n",
      "Ties             0\n",
      "W.L.             0\n",
      "pythW.L.         0\n",
      "Finish           0\n",
      "GB               0\n",
      "Playoffs      2163\n",
      "R                0\n",
      "RA               0\n",
      "Attendance      74\n",
      "BatAge           0\n",
      "PAge             0\n",
      "X.Bat            0\n",
      "X.P              0\n",
      "Top.Player       0\n",
      "Managers         0\n",
      "current          0\n",
      "dtype: int64\n"
     ]
    }
   ],
   "source": [
    "# 1.2 Handle Missing Values\n",
    "# Check for missing values\n",
    "print(df.isnull().sum())"
   ]
  },
  {
   "cell_type": "code",
   "execution_count": 13,
   "metadata": {},
   "outputs": [],
   "source": [
    "# 1.3 Change NULL in Playoffs Column to 'Did not make it'\n",
    "# Impute missing values in the 'Playoffs' column with 'Did not make it'\n",
    "df['Playoffs'].fillna('Did not make it', inplace=True)"
   ]
  },
  {
   "cell_type": "code",
   "execution_count": null,
   "metadata": {},
   "outputs": [],
   "source": []
  }
 ],
 "metadata": {
  "kernelspec": {
   "display_name": "Python 3 (ipykernel)",
   "language": "python",
   "name": "python3"
  },
  "language_info": {
   "codemirror_mode": {
    "name": "ipython",
    "version": 3
   },
   "file_extension": ".py",
   "mimetype": "text/x-python",
   "name": "python",
   "nbconvert_exporter": "python",
   "pygments_lexer": "ipython3",
   "version": "3.11.5"
  },
  "vscode": {
   "interpreter": {
    "hash": "7b63700a7479ca494b09cb94f65ff43e6df18b3e5067a4f3d4ae63f32d2fcb1e"
   }
  }
 },
 "nbformat": 4,
 "nbformat_minor": 4
}
