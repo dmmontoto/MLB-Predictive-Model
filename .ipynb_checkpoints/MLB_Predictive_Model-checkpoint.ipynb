{
 "cells": [
  {
   "attachments": {},
   "cell_type": "markdown",
   "metadata": {},
   "source": [
    "# MLB Predictive Analysis\n",
    "\n",
    "### By David Montoto"
   ]
  },
  {
   "attachments": {},
   "cell_type": "markdown",
   "metadata": {},
   "source": [
    "## Abstract\n",
    "This project utilizes Python to develop and implement a machine learning solution aimed at uncovering information within historical Major League Baseball (MLB) data. The primary objectives are the following: first, to create a predictive model that determines the likelihood of a manager's success based on various historical performance metrics; second, to analyze the impact of top players on overall team success. Using a dataset spanning from 1870 to 2016, we apply a range of machine learning techniques to build models for predicting managerial success and conducting regression analysis to explore the influence of key player performance. The results provide valuable insights into the factors driving team performance, offering practical implications for team management and strategic decision-making in MLB. Through detailed data preprocessing, exploratory data analysis, and rigorous model evaluation, this project demonstrates the effective use of machine learning in sports analytics.\n",
    "\n",
    "## Goal\n",
    "The goal of this assignment is to leverage Python to develop and implement a comprehensive machine learning project that involves building predictive models and conducting detailed data analysis. Specifically, the project aims to:\n",
    "\n",
    "1. Predict Managerial Success: Create a predictive model to determine the likelihood of a manager's success based on historical MLB data, using various machine learning techniques\n",
    "\n",
    "2. Analyze Player Impact: Examine how the performance of top players influences overall team success, employing regression and feature importance analysis"
   ]
  },
  {
   "attachments": {},
   "cell_type": "markdown",
   "metadata": {},
   "source": [
    "#### Data Cleaning and Preprocessing\n"
   ]
  },
  {
   "cell_type": "code",
   "execution_count": 68,
   "metadata": {
    "vscode": {
     "languageId": "plaintext"
    }
   },
   "outputs": [],
   "source": [
    "import pandas as pd \n",
    "import numpy as np \n",
    "import matplotlib.pyplot as plt\n",
    "import seaborn as sns\n",
    "from scipy import stats\n",
    "from sklearn.preprocessing import StandardScaler\n",
    "from sklearn.model_selection import train_test_split"
   ]
  },
  {
   "cell_type": "markdown",
   "metadata": {},
   "source": [
    "##### Load and Examine Data "
   ]
  },
  {
   "cell_type": "code",
   "execution_count": 124,
   "metadata": {
    "vscode": {
     "languageId": "plaintext"
    }
   },
   "outputs": [
    {
     "name": "stdout",
     "output_type": "stream",
     "text": [
      "   Unnamed: 0  Rk  Year                    Tm       Lg    G   W   L  Ties  \\\n",
      "0           1   1  2016  Arizona Diamondbacks  NL West  162  69  93     0   \n",
      "1           2   2  2015  Arizona Diamondbacks  NL West  162  79  83     0   \n",
      "2           3   3  2014  Arizona Diamondbacks  NL West  162  64  98     0   \n",
      "3           4   4  2013  Arizona Diamondbacks  NL West  162  81  81     0   \n",
      "4           5   5  2012  Arizona Diamondbacks  NL West  162  81  81     0   \n",
      "\n",
      "    W.L.  ...    R   RA Attendance BatAge  PAge  X.Bat X.P  \\\n",
      "0  0.426  ...  752  890  2,036,216   26.7  26.4     50  29   \n",
      "1  0.488  ...  720  713  2,080,145   26.6  27.1     50  27   \n",
      "2  0.395  ...  615  742  2,073,730   27.6  28.0     52  25   \n",
      "3  0.500  ...  685  695  2,134,895   28.1  27.6     44  23   \n",
      "4  0.500  ...  734  688  2,177,617   28.3  27.4     48  23   \n",
      "\n",
      "            Top.Player                               Managers  \\\n",
      "0       J.Segura (5.7)                         C.Hale (69-93)   \n",
      "1  P.Goldschmidt (8.8)                         C.Hale (79-83)   \n",
      "2  P.Goldschmidt (4.5)  K.Gibson (63-96) and A.Trammell (1-2)   \n",
      "3  P.Goldschmidt (7.1)                       K.Gibson (81-81)   \n",
      "4         A.Hill (5.0)                       K.Gibson (81-81)   \n",
      "\n",
      "                current  \n",
      "0  Arizona Diamondbacks  \n",
      "1  Arizona Diamondbacks  \n",
      "2  Arizona Diamondbacks  \n",
      "3  Arizona Diamondbacks  \n",
      "4  Arizona Diamondbacks  \n",
      "\n",
      "[5 rows x 24 columns]\n",
      "<class 'pandas.core.frame.DataFrame'>\n",
      "RangeIndex: 2594 entries, 0 to 2593\n",
      "Data columns (total 24 columns):\n",
      " #   Column      Non-Null Count  Dtype  \n",
      "---  ------      --------------  -----  \n",
      " 0   Unnamed: 0  2594 non-null   int64  \n",
      " 1   Rk          2594 non-null   int64  \n",
      " 2   Year        2594 non-null   int64  \n",
      " 3   Tm          2594 non-null   object \n",
      " 4   Lg          2594 non-null   object \n",
      " 5   G           2594 non-null   int64  \n",
      " 6   W           2594 non-null   int64  \n",
      " 7   L           2594 non-null   int64  \n",
      " 8   Ties        2594 non-null   int64  \n",
      " 9   W.L.        2594 non-null   float64\n",
      " 10  pythW.L.    2594 non-null   float64\n",
      " 11  Finish      2594 non-null   object \n",
      " 12  GB          2594 non-null   object \n",
      " 13  Playoffs    431 non-null    object \n",
      " 14  R           2594 non-null   int64  \n",
      " 15  RA          2594 non-null   int64  \n",
      " 16  Attendance  2520 non-null   object \n",
      " 17  BatAge      2594 non-null   float64\n",
      " 18  PAge        2594 non-null   float64\n",
      " 19  X.Bat       2594 non-null   int64  \n",
      " 20  X.P         2594 non-null   int64  \n",
      " 21  Top.Player  2594 non-null   object \n",
      " 22  Managers    2594 non-null   object \n",
      " 23  current     2594 non-null   object \n",
      "dtypes: float64(4), int64(11), object(9)\n",
      "memory usage: 486.5+ KB\n",
      "None\n"
     ]
    }
   ],
   "source": [
    "df = pd.read_csv('baseballdata.csv')\n",
    "\n",
    "# Inspect first few rows\n",
    "print(df.head())\n",
    "\n",
    "# Inspect dataset info\n",
    "print(df.info())"
   ]
  },
  {
   "cell_type": "markdown",
   "metadata": {},
   "source": [
    "#### Handle Missing Values"
   ]
  },
  {
   "cell_type": "code",
   "execution_count": 127,
   "metadata": {},
   "outputs": [
    {
     "name": "stdout",
     "output_type": "stream",
     "text": [
      "Unnamed: 0       0\n",
      "Rk               0\n",
      "Year             0\n",
      "Tm               0\n",
      "Lg               0\n",
      "G                0\n",
      "W                0\n",
      "L                0\n",
      "Ties             0\n",
      "W.L.             0\n",
      "pythW.L.         0\n",
      "Finish           0\n",
      "GB               0\n",
      "Playoffs      2163\n",
      "R                0\n",
      "RA               0\n",
      "Attendance      74\n",
      "BatAge           0\n",
      "PAge             0\n",
      "X.Bat            0\n",
      "X.P              0\n",
      "Top.Player       0\n",
      "Managers         0\n",
      "current          0\n",
      "dtype: int64\n"
     ]
    }
   ],
   "source": [
    "# Check for missing values\n",
    "print(df.isnull().sum())"
   ]
  },
  {
   "cell_type": "markdown",
   "metadata": {},
   "source": [
    "#### Change NULL in Playoffs Column to 'Did not make it'"
   ]
  },
  {
   "cell_type": "code",
   "execution_count": 130,
   "metadata": {},
   "outputs": [],
   "source": [
    "# Impute missing values in the 'Playoffs' column with 'Did not make it'\n",
    "df['Playoffs'].fillna('Did not make it', inplace=True)"
   ]
  },
  {
   "cell_type": "code",
   "execution_count": 132,
   "metadata": {},
   "outputs": [],
   "source": [
    "# Drop unnecessary column\n",
    "df = df.drop(columns=['Attendance'])"
   ]
  },
  {
   "cell_type": "code",
   "execution_count": null,
   "metadata": {},
   "outputs": [],
   "source": [
    "def extract_wins_losses(record):\n",
    "    # Find the index of the parentheses\n",
    "    start = record.find('(')\n",
    "    end = record.find(')')\n",
    "    \n",
    "    # Extract the content within parentheses\n",
    "    if start != -1 and end != -1:\n",
    "        record_content = record[start + 1:end]\n",
    "        wins, losses = map(int, record_content.split('-'))\n",
    "        return wins, losses\n",
    "    return 0, 0\n",
    "\n",
    "def process_manager_row(row):\n",
    "    # Split managers by ',' or ' and '\n",
    "    managers = [manager.strip() for part in row['Managers'].split(',') for manager in part.split(' and ')]\n",
    "    \n",
    "    # Extract manager records\n",
    "    manager_records = [extract_wins_losses(manager) for manager in managers]\n",
    "    \n",
    "    # Extract final playoff result\n",
    "    final_playoff_result = row['Playoffs'] if managers[-1] in row['Managers'] else 'Did not make it'\n",
    "    \n",
    "    rows = []\n",
    "    for i, manager in enumerate(managers):\n",
    "        manager_name = manager.split(' (')[0]\n",
    "        wins, losses = manager_records[i]\n",
    "        win_loss_record = f\"{wins}-{losses}\"\n",
    "        \n",
    "        if i == len(managers) - 1:  # Last manager gets the actual playoff result\n",
    "            playoff_result = row['Playoffs']\n",
    "        else:  # Other managers get 'Did not make it'\n",
    "            playoff_result = 'Did not make it'\n",
    "        \n",
    "        # Append row for each manager\n",
    "        rows.append({\n",
    "            'Manager_Name': manager_name,\n",
    "            'Wins': wins,\n",
    "            'Losses': losses,\n",
    "            'Win_Loss_Record': win_loss_record,\n",
    "            'Playoff_Result': playoff_result,\n",
    "            'Playoff_Score': calculate_playoff_score(playoff_result)\n",
    "        })\n",
    "    \n",
    "    return pd.DataFrame(rows)"
   ]
  },
  {
   "cell_type": "code",
   "execution_count": null,
   "metadata": {},
   "outputs": [],
   "source": [
    "df = pd.concat(df.apply(process_manager_row, axis=1).tolist(), ignore_index=True)\n",
    "print(df.head())"
   ]
  },
  {
   "cell_type": "code",
   "execution_count": 134,
   "metadata": {},
   "outputs": [
    {
     "name": "stdout",
     "output_type": "stream",
     "text": [
      "Total number of unique managers: 453\n"
     ]
    }
   ],
   "source": [
    "df['Manager_Name'] = df['Managers'].str.split('(', expand=True)[0].str.strip()\n",
    "\n",
    "total_unique_managers = df['Manager_Name'].nunique()\n",
    "print(f\"Total number of unique managers: {total_unique_managers}\")"
   ]
  },
  {
   "cell_type": "code",
   "execution_count": 136,
   "metadata": {},
   "outputs": [
    {
     "name": "stdout",
     "output_type": "stream",
     "text": [
      "     Manager_Name\n",
      "0          C.Hale\n",
      "1        K.Gibson\n",
      "2         A.Hinch\n",
      "3        B.Melvin\n",
      "4        B.Brenly\n",
      "..            ...\n",
      "448  R.Hartsfield\n",
      "449    M.Williams\n",
      "450    T.Runnells\n",
      "451     J.Fanning\n",
      "452       K.Kuehl\n",
      "\n",
      "[453 rows x 1 columns]\n"
     ]
    }
   ],
   "source": [
    "# Get unique manager names\n",
    "unique_managers = df['Manager_Name'].unique()\n",
    "\n",
    "# Create a new DataFrame with unique managers\n",
    "manager_df = pd.DataFrame(unique_managers, columns=['Manager_Name'])\n",
    "\n",
    "# Reset index if needed\n",
    "manager_df.reset_index(drop=True, inplace=True)\n",
    "\n",
    "# Print the new DataFrame\n",
    "print(manager_df)"
   ]
  },
  {
   "cell_type": "code",
   "execution_count": 138,
   "metadata": {},
   "outputs": [
    {
     "name": "stdout",
     "output_type": "stream",
     "text": [
      "  Manager_Name          W          L  Win_Percentage\n",
      "0       C.Hale  74.000000  88.000000        0.456790\n",
      "1     K.Gibson  80.000000  82.000000        0.493827\n",
      "2      A.Hinch  78.333333  83.666667        0.483539\n",
      "3     B.Melvin  80.500000  81.500000        0.496914\n",
      "4     B.Brenly  81.250000  80.750000        0.501543\n"
     ]
    }
   ],
   "source": [
    "# Step 1: Calculate Aggregated Win-Loss Data for Each Manager\n",
    "manager_stats = df.groupby('Manager_Name').agg({\n",
    "    'W': 'mean',\n",
    "    'L': 'mean'\n",
    "}).reset_index()\n",
    "\n",
    "manager_stats['Win_Percentage'] = manager_stats['W'] / (manager_stats['W'] + manager_stats['L'])\n",
    "\n",
    "# Assuming manager_df is your DataFrame with unique manager names\n",
    "# Step 2: Add Aggregated Data to manager_df\n",
    "manager_df = pd.merge(manager_df, manager_stats[['Manager_Name', 'W', 'L', 'Win_Percentage']], on='Manager_Name', how='left')\n",
    "\n",
    "# Print the updated manager_df\n",
    "print(manager_df.head())"
   ]
  },
  {
   "cell_type": "code",
   "execution_count": 140,
   "metadata": {},
   "outputs": [
    {
     "name": "stdout",
     "output_type": "stream",
     "text": [
      "   Manager_Name          W       L  Win_Percentage\n",
      "96   J.McCarthy  94.041667  59.125        0.613983\n"
     ]
    }
   ],
   "source": [
    "# Find the row for Joe McCarthy\n",
    "joe_mccarthy_stats = manager_df[manager_df['Manager_Name'] == 'J.McCarthy']\n",
    "\n",
    "# Print Joe McCarthy's statistics\n",
    "print(joe_mccarthy_stats)"
   ]
  },
  {
   "cell_type": "code",
   "execution_count": 142,
   "metadata": {},
   "outputs": [
    {
     "name": "stdout",
     "output_type": "stream",
     "text": [
      "Number of unique playoff responses: 41\n",
      "Unique playoff responses:\n",
      "Did not make it\n",
      "Lost LDS (3-2)\n",
      "Lost NLCS (4-0)\n",
      "Lost LDS (3-0)\n",
      "Won WS (4-3)\n",
      "Lost LDS (3-1)\n",
      "Lost NLWC (1-0)\n",
      "Lost NLCS (4-1)\n",
      "Lost WS (4-0)\n",
      "Lost NLCS (4-2)\n",
      "Lost WS (4-2)\n",
      "Won WS (4-2)\n",
      "Lost WS (4-3)\n",
      "Lost NLCS (3-0)\n",
      "Won WS (4-0)\n",
      "Won Series (5-0-1)\n",
      "Lost ALWC (1-0)\n",
      "Lost ALCS (4-0)\n",
      "Lost ALCS (4-2)\n",
      "Lost ALCS (4-1)\n",
      "Won WS (4-1)\n",
      "Lost ALCS (3-1)\n",
      "Lost ALCS (3-2)\n",
      "Lost WS (4-1)\n",
      "Lost ALCS (4-3)\n",
      "Won WS (5-3)\n",
      "Lost NLCS (4-3)\n",
      "Lost NLCS (3-2)\n",
      "Won WS (4-0-1)\n",
      "Tied in WS (3-3-1)\n",
      "Lost WS (5-3)\n",
      "Won WS (5-2)\n",
      "Lost WS (4-0-1)\n",
      "Lost ALCS (3-0)\n",
      "Lost NLCS (3-1)\n",
      "Lost WS (5-2)\n",
      "Lost WS (6-3)\n",
      "Won WS (6-3)\n",
      "Won WS (6-4)\n",
      "Lost WS (6-4)\n",
      "Lost WS (10-5)\n"
     ]
    }
   ],
   "source": [
    "unique_playoff_responses = df['Playoffs'].unique()\n",
    "\n",
    "# Print the number of unique responses and the responses themselves\n",
    "print(f\"Number of unique playoff responses: {len(unique_playoff_responses)}\")\n",
    "print(\"Unique playoff responses:\")\n",
    "for response in unique_playoff_responses:\n",
    "    print(response)"
   ]
  },
  {
   "cell_type": "code",
   "execution_count": 144,
   "metadata": {},
   "outputs": [
    {
     "name": "stdout",
     "output_type": "stream",
     "text": [
      "4\n"
     ]
    }
   ],
   "source": [
    "def calculate_playoff_score(playoff_result):\n",
    "    if 'Lost ALWC' in playoff_result or 'Lost NLWC' in playoff_result:\n",
    "        return 1\n",
    "    elif 'Lost LDS' in playoff_result:\n",
    "        return 2\n",
    "    elif 'Lost ALCS' in playoff_result or 'Lost NLCS' in playoff_result:\n",
    "        return 3\n",
    "    elif 'Lost WS' in playoff_result or 'Tied in WS' in playoff_result:\n",
    "        return 4\n",
    "    elif 'Won WS' in playoff_result:\n",
    "        return 5\n",
    "    else: \n",
    "        return 0\n",
    "\n",
    "test = calculate_playoff_score('Lost WS (6-4)')\n",
    "print(test)"
   ]
  },
  {
   "cell_type": "code",
   "execution_count": 146,
   "metadata": {},
   "outputs": [
    {
     "name": "stdout",
     "output_type": "stream",
     "text": [
      "          Playoffs  Playoff_Score\n",
      "0  Did not make it              0\n",
      "1  Did not make it              0\n",
      "2  Did not make it              0\n",
      "3  Did not make it              0\n",
      "4  Did not make it              0\n",
      "5   Lost LDS (3-2)              2\n",
      "6  Did not make it              0\n",
      "7  Did not make it              0\n",
      "8  Did not make it              0\n",
      "9  Lost NLCS (4-0)              3\n"
     ]
    }
   ],
   "source": [
    "# Apply the function to the Playoffs column\n",
    "df['Playoff_Score'] = df['Playoffs'].apply(calculate_playoff_score)\n",
    "print(df[['Playoffs', 'Playoff_Score']].head(10)) "
   ]
  },
  {
   "cell_type": "code",
   "execution_count": 156,
   "metadata": {},
   "outputs": [],
   "source": [
    "# Function to separate managers and create new rows for each manager\n",
    "def separate_managers(row):\n",
    "    managers = row['Managers'].split(', ')\n",
    "    return pd.DataFrame({\n",
    "        'Manager_Name': managers,\n",
    "        'Playoff_Score': [row['Playoff_Score']] * len(managers)\n",
    "    })"
   ]
  },
  {
   "cell_type": "code",
   "execution_count": null,
   "metadata": {},
   "outputs": [],
   "source": [
    "# Apply the function to each row in the DataFrame and concatenate the results\n",
    "separated_managers_df = pd.concat(df.apply(separate_managers, axis=1).tolist(), ignore_index=True)\n",
    "\n",
    "# Group by manager names and sum the Playoff_Score for each manager\n",
    "manager_playoff_scores = separated_managers_df.groupby('Manager_Name')['Playoff_Score'].sum().reset_index()\n",
    "\n",
    "# Rename columns for clarity\n",
    "manager_playoff_scores.columns = ['Manager_Name', 'Total_Playoff_Score']\n",
    "\n",
    "# Merge the total playoff scores back into manager_df\n",
    "manager_df = manager_df.merge(manager_playoff_scores, on='Manager_Name', how='left')\n",
    "\n",
    "# Fill any missing values with 0 (in case a manager never had a playoff score)\n",
    "manager_df['Total_Playoff_Score'].fillna(0, inplace=True)\n",
    "\n",
    "# Print the updated manager_df to verify\n",
    "print(manager_df.head(10))\n",
    "\n",
    "# Check the number of unique playoff scores and print each unique response\n",
    "unique_total_playoff_scores = manager_df['Total_Playoff_Score'].unique()\n",
    "\n",
    "print(f\"Number of unique total playoff scores: {len(unique_total_playoff_scores)}\")\n",
    "print(\"Unique total playoff scores:\")\n",
    "for response in unique_total_playoff_scores:\n",
    "    print(response)"
   ]
  },
  {
   "cell_type": "code",
   "execution_count": 150,
   "metadata": {},
   "outputs": [
    {
     "name": "stdout",
     "output_type": "stream",
     "text": [
      "  Manager_Name          W          L  Win_Percentage  Total_Playoff_Score\n",
      "0       C.Hale  74.000000  88.000000        0.456790                  0.0\n",
      "1     K.Gibson  80.000000  82.000000        0.493827                  0.0\n",
      "2      A.Hinch  78.333333  83.666667        0.483539                  0.0\n",
      "3     B.Melvin  80.500000  81.500000        0.496914                  0.0\n",
      "4     B.Brenly  81.250000  80.750000        0.501543                  0.0\n",
      "5  B.Showalter  82.058824  76.000000        0.519166                  0.0\n",
      "6   F.Gonzalez  81.500000  80.300000        0.503708                  0.0\n",
      "7        B.Cox  88.000000  69.428571        0.558984                  0.0\n",
      "8      R.Nixon  67.333333  94.000000        0.417355                  0.0\n",
      "9     C.Tanner  77.277778  80.388889        0.490134                  0.0\n"
     ]
    }
   ],
   "source": [
    "# Merge the total playoff scores back into manager_df\n",
    "manager_df = manager_df.merge(manager_playoff_scores, on='Manager_Name', how='left')\n",
    "\n",
    "# Fill any missing values with 0 (in case a manager never had a playoff score)\n",
    "manager_df['Total_Playoff_Score'].fillna(0, inplace=True)\n",
    "\n",
    "# Print the updated manager_df to verify\n",
    "print(manager_df.head(10))\n"
   ]
  },
  {
   "cell_type": "code",
   "execution_count": 152,
   "metadata": {},
   "outputs": [
    {
     "name": "stdout",
     "output_type": "stream",
     "text": [
      "Number of unique total playoff scores: 1\n",
      "Unique total playoff scores:\n",
      "0.0\n"
     ]
    }
   ],
   "source": [
    "# Check the number of unique playoff scores and print each unique response\n",
    "unique_total_playoff_scores = manager_df['Total_Playoff_Score'].unique()\n",
    "\n",
    "print(f\"Number of unique total playoff scores: {len(unique_total_playoff_scores)}\")\n",
    "print(\"Unique total playoff scores:\")\n",
    "for response in unique_total_playoff_scores:\n",
    "    print(response)"
   ]
  },
  {
   "cell_type": "code",
   "execution_count": null,
   "metadata": {},
   "outputs": [],
   "source": []
  }
 ],
 "metadata": {
  "kernelspec": {
   "display_name": "Python 3 (ipykernel)",
   "language": "python",
   "name": "python3"
  },
  "language_info": {
   "codemirror_mode": {
    "name": "ipython",
    "version": 3
   },
   "file_extension": ".py",
   "mimetype": "text/x-python",
   "name": "python",
   "nbconvert_exporter": "python",
   "pygments_lexer": "ipython3",
   "version": "3.11.5"
  },
  "vscode": {
   "interpreter": {
    "hash": "7b63700a7479ca494b09cb94f65ff43e6df18b3e5067a4f3d4ae63f32d2fcb1e"
   }
  }
 },
 "nbformat": 4,
 "nbformat_minor": 4
}
