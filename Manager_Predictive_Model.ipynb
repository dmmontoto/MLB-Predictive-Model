{
 "cells": [
  {
   "attachments": {},
   "cell_type": "markdown",
   "metadata": {},
   "source": [
    "# MLB Manager Predictive Analysis\n",
    "\n",
    "### By David Montoto"
   ]
  },
  {
   "attachments": {},
   "cell_type": "markdown",
   "metadata": {},
   "source": [
    "## Abstract\n",
    "This project utilizes Python to develop and implement a machine learning solution aimed at uncovering information within historical Major League Baseball (MLB) data. The primary objectives are the following: first, to create a predictive model that determines the likelihood of a manager's success based on various historical performance metrics; second, to analyze the impact of top players on overall team success. Using a dataset spanning from 1870 to 2016, we apply a range of machine learning techniques to build models for predicting managerial success and conducting regression analysis to explore the influence of key player performance. The results provide valuable insights into the factors driving team performance, offering practical implications for team management and strategic decision-making in MLB. Through detailed data preprocessing, exploratory data analysis, and rigorous model evaluation, this project demonstrates the effective use of machine learning in sports analytics.\n",
    "\n",
    "## Goal\n",
    "The goal of this assignment is to leverage Python to develop and implement a comprehensive machine learning project that involves building predictive models and conducting detailed data analysis. Specifically, the project aims to:\n",
    "\n",
    "1. Predict Managerial Success: Create a predictive model to determine the likelihood of a manager's success based on historical MLB data, using various machine learning techniques"
   ]
  },
  {
   "attachments": {},
   "cell_type": "markdown",
   "metadata": {},
   "source": [
    "#### Data Cleaning and Preprocessing\n"
   ]
  },
  {
   "cell_type": "code",
   "execution_count": 265,
   "metadata": {
    "vscode": {
     "languageId": "plaintext"
    }
   },
   "outputs": [],
   "source": [
    "import pandas as pd \n",
    "import numpy as np \n",
    "import matplotlib.pyplot as plt\n",
    "import seaborn as sns\n",
    "from scipy import stats\n",
    "from sklearn.preprocessing import StandardScaler\n",
    "from sklearn.model_selection import train_test_split\n",
    "from sklearn.preprocessing import MinMaxScaler\n",
    "from sklearn.ensemble import RandomForestClassifier\n",
    "from sklearn.ensemble import RandomForestRegressor\n",
    "from sklearn.metrics import accuracy_score\n",
    "from sklearn.metrics import mean_squared_error"
   ]
  },
  {
   "cell_type": "markdown",
   "metadata": {},
   "source": [
    "##### Load and Examine Data "
   ]
  },
  {
   "cell_type": "code",
   "execution_count": 185,
   "metadata": {
    "vscode": {
     "languageId": "plaintext"
    }
   },
   "outputs": [
    {
     "name": "stdout",
     "output_type": "stream",
     "text": [
      "   Unnamed: 0  Rk  Year                    Tm       Lg    G   W   L  Ties  \\\n",
      "0           1   1  2016  Arizona Diamondbacks  NL West  162  69  93     0   \n",
      "1           2   2  2015  Arizona Diamondbacks  NL West  162  79  83     0   \n",
      "2           3   3  2014  Arizona Diamondbacks  NL West  162  64  98     0   \n",
      "3           4   4  2013  Arizona Diamondbacks  NL West  162  81  81     0   \n",
      "4           5   5  2012  Arizona Diamondbacks  NL West  162  81  81     0   \n",
      "\n",
      "    W.L.  ...    R   RA Attendance BatAge  PAge  X.Bat X.P  \\\n",
      "0  0.426  ...  752  890  2,036,216   26.7  26.4     50  29   \n",
      "1  0.488  ...  720  713  2,080,145   26.6  27.1     50  27   \n",
      "2  0.395  ...  615  742  2,073,730   27.6  28.0     52  25   \n",
      "3  0.500  ...  685  695  2,134,895   28.1  27.6     44  23   \n",
      "4  0.500  ...  734  688  2,177,617   28.3  27.4     48  23   \n",
      "\n",
      "            Top.Player                               Managers  \\\n",
      "0       J.Segura (5.7)                         C.Hale (69-93)   \n",
      "1  P.Goldschmidt (8.8)                         C.Hale (79-83)   \n",
      "2  P.Goldschmidt (4.5)  K.Gibson (63-96) and A.Trammell (1-2)   \n",
      "3  P.Goldschmidt (7.1)                       K.Gibson (81-81)   \n",
      "4         A.Hill (5.0)                       K.Gibson (81-81)   \n",
      "\n",
      "                current  \n",
      "0  Arizona Diamondbacks  \n",
      "1  Arizona Diamondbacks  \n",
      "2  Arizona Diamondbacks  \n",
      "3  Arizona Diamondbacks  \n",
      "4  Arizona Diamondbacks  \n",
      "\n",
      "[5 rows x 24 columns]\n",
      "<class 'pandas.core.frame.DataFrame'>\n",
      "RangeIndex: 2594 entries, 0 to 2593\n",
      "Data columns (total 24 columns):\n",
      " #   Column      Non-Null Count  Dtype  \n",
      "---  ------      --------------  -----  \n",
      " 0   Unnamed: 0  2594 non-null   int64  \n",
      " 1   Rk          2594 non-null   int64  \n",
      " 2   Year        2594 non-null   int64  \n",
      " 3   Tm          2594 non-null   object \n",
      " 4   Lg          2594 non-null   object \n",
      " 5   G           2594 non-null   int64  \n",
      " 6   W           2594 non-null   int64  \n",
      " 7   L           2594 non-null   int64  \n",
      " 8   Ties        2594 non-null   int64  \n",
      " 9   W.L.        2594 non-null   float64\n",
      " 10  pythW.L.    2594 non-null   float64\n",
      " 11  Finish      2594 non-null   object \n",
      " 12  GB          2594 non-null   object \n",
      " 13  Playoffs    431 non-null    object \n",
      " 14  R           2594 non-null   int64  \n",
      " 15  RA          2594 non-null   int64  \n",
      " 16  Attendance  2520 non-null   object \n",
      " 17  BatAge      2594 non-null   float64\n",
      " 18  PAge        2594 non-null   float64\n",
      " 19  X.Bat       2594 non-null   int64  \n",
      " 20  X.P         2594 non-null   int64  \n",
      " 21  Top.Player  2594 non-null   object \n",
      " 22  Managers    2594 non-null   object \n",
      " 23  current     2594 non-null   object \n",
      "dtypes: float64(4), int64(11), object(9)\n",
      "memory usage: 486.5+ KB\n",
      "None\n"
     ]
    }
   ],
   "source": [
    "df = pd.read_csv('baseballdata.csv')\n",
    "\n",
    "# Inspect first few rows\n",
    "print(df.head())\n",
    "\n",
    "# Inspect dataset info\n",
    "print(df.info())"
   ]
  },
  {
   "cell_type": "markdown",
   "metadata": {},
   "source": [
    "### Handle Missing Values"
   ]
  },
  {
   "cell_type": "code",
   "execution_count": 187,
   "metadata": {},
   "outputs": [
    {
     "name": "stdout",
     "output_type": "stream",
     "text": [
      "Unnamed: 0       0\n",
      "Rk               0\n",
      "Year             0\n",
      "Tm               0\n",
      "Lg               0\n",
      "G                0\n",
      "W                0\n",
      "L                0\n",
      "Ties             0\n",
      "W.L.             0\n",
      "pythW.L.         0\n",
      "Finish           0\n",
      "GB               0\n",
      "Playoffs      2163\n",
      "R                0\n",
      "RA               0\n",
      "Attendance      74\n",
      "BatAge           0\n",
      "PAge             0\n",
      "X.Bat            0\n",
      "X.P              0\n",
      "Top.Player       0\n",
      "Managers         0\n",
      "current          0\n",
      "dtype: int64\n"
     ]
    }
   ],
   "source": [
    "# Check for missing values\n",
    "print(df.isnull().sum())"
   ]
  },
  {
   "cell_type": "markdown",
   "metadata": {},
   "source": [
    "### Change NULL in Playoffs Column to 'Did not make it'\n",
    "\n",
    "We are going to be using Playoff Column for the predictive analysis by ranking manager's on all their post-season success or lackthereof. "
   ]
  },
  {
   "cell_type": "code",
   "execution_count": 189,
   "metadata": {},
   "outputs": [],
   "source": [
    "# Impute missing values in the 'Playoffs' column with 'Did not make it'\n",
    "df['Playoffs'].fillna('Did not make it', inplace=True)"
   ]
  },
  {
   "cell_type": "markdown",
   "metadata": {},
   "source": [
    "We will not be using Attendence column at all"
   ]
  },
  {
   "cell_type": "code",
   "execution_count": 191,
   "metadata": {},
   "outputs": [],
   "source": [
    "# Drop unnecessary column\n",
    "df = df.drop(columns=['Attendance'])"
   ]
  },
  {
   "cell_type": "markdown",
   "metadata": {},
   "source": [
    "### Helper Functions for cleaning and preparing data \n",
    "\n",
    "1. extract_wins_losses: This function gets the wins and losses pertaining to each manager. Even though each row (season) has a total Wins and Losses column, some rows (seasons) had more than one coach, each with their own respective records for season\n",
    "2. process_manager_row: This function is designed to iterate through rows which have more than one manager and create rows for each manager with their own respective records and playoff result."
   ]
  },
  {
   "cell_type": "code",
   "execution_count": 203,
   "metadata": {},
   "outputs": [],
   "source": [
    "def extract_wins_losses(record):\n",
    "    # Find the index of the parentheses\n",
    "    start = record.find('(')\n",
    "    end = record.find(')')\n",
    "    \n",
    "    # Extract the content within parentheses\n",
    "    if start != -1 and end != -1:\n",
    "        record_content = record[start + 1:end]\n",
    "        wins, losses = map(int, record_content.split('-'))\n",
    "        return wins, losses\n",
    "    return 0, 0\n",
    "\n",
    "def process_manager_row(row):\n",
    "    # Split managers by ',' or ' and '\n",
    "    managers = [manager.strip() for part in row['Managers'].split(',') for manager in part.split(' and ')]\n",
    "    \n",
    "    # Extract manager records\n",
    "    manager_records = [extract_wins_losses(manager) for manager in managers]\n",
    "    \n",
    "    rows = []\n",
    "    for i, manager in enumerate(managers):\n",
    "        manager_name = manager.split(' (')[0]\n",
    "        wins, losses = manager_records[i]\n",
    "        win_loss_record = f\"{wins}-{losses}\"\n",
    "        \n",
    "        if i == len(managers) - 1:  # Last manager gets the actual playoff result\n",
    "            playoff_result = row['Playoffs']\n",
    "        else:  # Other managers get 'Did not make it'\n",
    "            playoff_result = 'Did not make it'\n",
    "        \n",
    "        # Append row for each manager\n",
    "        rows.append({\n",
    "            'Manager_Name': manager_name,\n",
    "            'Wins': wins,\n",
    "            'Losses': losses,\n",
    "            'Win_Loss_Record': win_loss_record,\n",
    "            'Playoff_Result': playoff_result,\n",
    "            'Playoff_Score': calculate_playoff_score(playoff_result),\n",
    "            'Year': row['Year'],  # Include other columns as needed\n",
    "            'Team': row['current'],\n",
    "        })\n",
    "    \n",
    "    return pd.DataFrame(rows)\n"
   ]
  },
  {
   "cell_type": "markdown",
   "metadata": {},
   "source": [
    "### Call helper functions on whole df while ignoring index"
   ]
  },
  {
   "cell_type": "code",
   "execution_count": 205,
   "metadata": {},
   "outputs": [
    {
     "name": "stdout",
     "output_type": "stream",
     "text": [
      "  Manager_Name  Wins  Losses Win_Loss_Record   Playoff_Result  Playoff_Score  \\\n",
      "0       C.Hale    69      93           69-93  Did not make it              0   \n",
      "1       C.Hale    79      83           79-83  Did not make it              0   \n",
      "2     K.Gibson    63      96           63-96  Did not make it              0   \n",
      "3   A.Trammell     1       2             1-2  Did not make it              0   \n",
      "4     K.Gibson    81      81           81-81  Did not make it              0   \n",
      "\n",
      "   Year                  Team  \n",
      "0  2016  Arizona Diamondbacks  \n",
      "1  2015  Arizona Diamondbacks  \n",
      "2  2014  Arizona Diamondbacks  \n",
      "3  2014  Arizona Diamondbacks  \n",
      "4  2013  Arizona Diamondbacks  \n"
     ]
    }
   ],
   "source": [
    "df = pd.concat(df.apply(process_manager_row, axis=1).tolist(), ignore_index=True)\n",
    "print(df.head())"
   ]
  },
  {
   "cell_type": "code",
   "execution_count": 207,
   "metadata": {},
   "outputs": [
    {
     "name": "stdout",
     "output_type": "stream",
     "text": [
      "Total number of unique managers: 575\n"
     ]
    }
   ],
   "source": [
    "total_unique_managers = df['Manager_Name'].nunique()\n",
    "print(f\"Total number of unique managers: {total_unique_managers}\")"
   ]
  },
  {
   "cell_type": "markdown",
   "metadata": {},
   "source": [
    "Checking to ensure that functions worked properly and Manager_Names are correct"
   ]
  },
  {
   "cell_type": "code",
   "execution_count": 209,
   "metadata": {},
   "outputs": [
    {
     "name": "stdout",
     "output_type": "stream",
     "text": [
      "     Manager_Name\n",
      "0          C.Hale\n",
      "1        K.Gibson\n",
      "2      A.Trammell\n",
      "3         A.Hinch\n",
      "4        B.Melvin\n",
      "..            ...\n",
      "570  R.Hartsfield\n",
      "571    M.Williams\n",
      "572    T.Runnells\n",
      "573     J.Fanning\n",
      "574       K.Kuehl\n",
      "\n",
      "[575 rows x 1 columns]\n"
     ]
    }
   ],
   "source": [
    "# Get unique manager names\n",
    "unique_managers = df['Manager_Name'].unique()\n",
    "\n",
    "# Create a new DataFrame with unique managers\n",
    "manager_df = pd.DataFrame(unique_managers, columns=['Manager_Name'])\n",
    "\n",
    "# Reset index if needed\n",
    "manager_df.reset_index(drop=True, inplace=True)\n",
    "\n",
    "# Print the new DataFrame\n",
    "print(manager_df)"
   ]
  },
  {
   "cell_type": "markdown",
   "metadata": {},
   "source": [
    "### 1. Calculate first of 4 Metrics for predicting managerial success: Individual Win/Loss Records"
   ]
  },
  {
   "cell_type": "code",
   "execution_count": 211,
   "metadata": {},
   "outputs": [
    {
     "name": "stdout",
     "output_type": "stream",
     "text": [
      "   Manager_Name   Avg_Wins  Avg_Losses  Win_Percentage\n",
      "0        C.Hale  74.000000   88.000000        0.456790\n",
      "1      K.Gibson  70.600000   75.000000        0.484890\n",
      "2    A.Trammell  46.750000   75.500000        0.382413\n",
      "3       A.Hinch  64.750000   69.250000        0.483209\n",
      "4      B.Melvin  73.461538   73.461538        0.500000\n",
      "5      B.Brenly  75.750000   65.500000        0.536283\n",
      "6    A.Pedrique  22.000000   61.000000        0.265060\n",
      "7   B.Showalter  79.388889   73.055556        0.520773\n",
      "8    F.Gonzalez  71.000000   69.200000        0.506419\n",
      "9     B.Snitker  59.000000   65.000000        0.475806\n",
      "10        B.Cox  86.344828   69.000000        0.555827\n",
      "11      R.Nixon  46.200000   69.400000        0.399654\n",
      "12     C.Tanner  71.157895   72.684211        0.494694\n",
      "13       E.Haas  50.000000   71.000000        0.413223\n",
      "14       B.Wine  16.000000   25.000000        0.390244\n",
      "15      J.Torre  80.206897   68.862069        0.538052\n",
      "16    D.Bristol  59.727273   69.454545        0.462350\n",
      "17     T.Turner   0.000000    1.000000        0.000000\n",
      "18     V.Benson   1.000000    0.000000        1.000000\n",
      "19       C.King  46.800000   45.800000        0.505400\n"
     ]
    }
   ],
   "source": [
    "# Calculate Aggregated Win-Loss Data for Each Manager\n",
    "manager_stats = df.groupby('Manager_Name').agg({\n",
    "    'Wins': 'mean',\n",
    "    'Losses': 'mean'\n",
    "}).reset_index()\n",
    "\n",
    "manager_stats['Win_Percentage'] = manager_stats['Wins'] / (manager_stats['Wins'] + manager_stats['Losses'])\n",
    "\n",
    "# Rename columns in manager_stats to avoid overlap\n",
    "manager_stats.rename(columns={'Wins': 'Avg_Wins', 'Losses': 'Avg_Losses'}, inplace=True)\n",
    "\n",
    "# Add Aggregated Data to manager_df\n",
    "manager_df = pd.merge(manager_df, manager_stats[['Manager_Name', 'Avg_Wins', 'Avg_Losses', 'Win_Percentage']], on='Manager_Name', how='left')\n",
    "\n",
    "# Print the updated manager_df\n",
    "print(manager_df.head(20))"
   ]
  },
  {
   "cell_type": "markdown",
   "metadata": {},
   "source": [
    "Joe McCarthy is argued to be the best MLB Manager of all time due to his highest win percentage. This code is to ensure that win/loss records calculated from this dataset are equal to ones in ESPN database."
   ]
  },
  {
   "cell_type": "code",
   "execution_count": 213,
   "metadata": {},
   "outputs": [
    {
     "name": "stdout",
     "output_type": "stream",
     "text": [
      "    Manager_Name   Avg_Wins  Avg_Losses  Win_Percentage\n",
      "117   J.McCarthy  88.541667   55.541667        0.614517\n"
     ]
    }
   ],
   "source": [
    "# Find the row for Joe McCarthy\n",
    "joe_mccarthy_stats = manager_df[manager_df['Manager_Name'] == 'J.McCarthy']\n",
    "\n",
    "# Print Joe McCarthy's statistics\n",
    "print(joe_mccarthy_stats)"
   ]
  },
  {
   "cell_type": "markdown",
   "metadata": {},
   "source": [
    "### Identify all possible values in Playoff_Result before calculating second metric for managerial success "
   ]
  },
  {
   "cell_type": "code",
   "execution_count": 217,
   "metadata": {},
   "outputs": [
    {
     "name": "stdout",
     "output_type": "stream",
     "text": [
      "Number of unique playoff responses: 41\n",
      "Unique playoff responses:\n",
      "Did not make it\n",
      "Lost LDS (3-2)\n",
      "Lost NLCS (4-0)\n",
      "Lost LDS (3-0)\n",
      "Won WS (4-3)\n",
      "Lost LDS (3-1)\n",
      "Lost NLWC (1-0)\n",
      "Lost NLCS (4-1)\n",
      "Lost WS (4-0)\n",
      "Lost NLCS (4-2)\n",
      "Lost WS (4-2)\n",
      "Won WS (4-2)\n",
      "Lost WS (4-3)\n",
      "Lost NLCS (3-0)\n",
      "Won WS (4-0)\n",
      "Won Series (5-0-1)\n",
      "Lost ALWC (1-0)\n",
      "Lost ALCS (4-0)\n",
      "Lost ALCS (4-2)\n",
      "Lost ALCS (4-1)\n",
      "Won WS (4-1)\n",
      "Lost ALCS (3-1)\n",
      "Lost ALCS (3-2)\n",
      "Lost WS (4-1)\n",
      "Lost ALCS (4-3)\n",
      "Won WS (5-3)\n",
      "Lost NLCS (4-3)\n",
      "Lost NLCS (3-2)\n",
      "Won WS (4-0-1)\n",
      "Tied in WS (3-3-1)\n",
      "Lost WS (5-3)\n",
      "Won WS (5-2)\n",
      "Lost WS (4-0-1)\n",
      "Lost ALCS (3-0)\n",
      "Lost NLCS (3-1)\n",
      "Lost WS (5-2)\n",
      "Lost WS (6-3)\n",
      "Won WS (6-3)\n",
      "Won WS (6-4)\n",
      "Lost WS (6-4)\n",
      "Lost WS (10-5)\n"
     ]
    }
   ],
   "source": [
    "unique_playoff_responses = df['Playoff_Result'].unique()\n",
    "\n",
    "# Print the number of unique responses and the responses themselves\n",
    "print(f\"Number of unique playoff responses: {len(unique_playoff_responses)}\")\n",
    "print(\"Unique playoff responses:\")\n",
    "for response in unique_playoff_responses:\n",
    "    print(response)"
   ]
  },
  {
   "cell_type": "markdown",
   "metadata": {},
   "source": [
    "### Helper function designed to help make scoring managerial success in the post-season analytical\n",
    "\n",
    "1. calculate_playoff_score: Analyzes how far each manager got in the playoffs every year, returning a score for their performance for each year"
   ]
  },
  {
   "cell_type": "code",
   "execution_count": 219,
   "metadata": {},
   "outputs": [
    {
     "name": "stdout",
     "output_type": "stream",
     "text": [
      "4\n"
     ]
    }
   ],
   "source": [
    "def calculate_playoff_score(playoff_result):\n",
    "    if 'Lost ALWC' in playoff_result or 'Lost NLWC' in playoff_result:\n",
    "        return 1\n",
    "    elif 'Lost LDS' in playoff_result:\n",
    "        return 2\n",
    "    elif 'Lost ALCS' in playoff_result or 'Lost NLCS' in playoff_result:\n",
    "        return 3\n",
    "    elif 'Lost WS' in playoff_result or 'Tied in WS' in playoff_result:\n",
    "        return 4\n",
    "    elif 'Won WS' in playoff_result:\n",
    "        return 5\n",
    "    else: \n",
    "        return 0\n",
    "\n",
    "test = calculate_playoff_score('Lost WS (6-4)')\n",
    "print(test)"
   ]
  },
  {
   "cell_type": "code",
   "execution_count": 223,
   "metadata": {},
   "outputs": [
    {
     "name": "stdout",
     "output_type": "stream",
     "text": [
      "    Playoff_Result  Playoff_Score\n",
      "0  Did not make it              0\n",
      "1  Did not make it              0\n",
      "2  Did not make it              0\n",
      "3  Did not make it              0\n",
      "4  Did not make it              0\n",
      "5  Did not make it              0\n",
      "6   Lost LDS (3-2)              2\n",
      "7  Did not make it              0\n",
      "8  Did not make it              0\n",
      "9  Did not make it              0\n"
     ]
    }
   ],
   "source": [
    "# Apply the function to the Playoffs column\n",
    "df['Playoff_Score'] = df['Playoff_Result'].apply(calculate_playoff_score)\n",
    "print(df[['Playoff_Result', 'Playoff_Score']].head(10)) "
   ]
  },
  {
   "cell_type": "markdown",
   "metadata": {},
   "source": [
    "### 2. Calculate second metric used for predicting managerial success: Total_Playoff_Score for each manager"
   ]
  },
  {
   "cell_type": "code",
   "execution_count": 225,
   "metadata": {},
   "outputs": [
    {
     "name": "stdout",
     "output_type": "stream",
     "text": [
      "   Manager_Name   Avg_Wins  Avg_Losses  Win_Percentage  Total_Playoff_Score\n",
      "0        C.Hale  74.000000   88.000000        0.456790                    0\n",
      "1      K.Gibson  70.600000   75.000000        0.484890                    2\n",
      "2    A.Trammell  46.750000   75.500000        0.382413                    0\n",
      "3       A.Hinch  64.750000   69.250000        0.483209                    2\n",
      "4      B.Melvin  73.461538   73.461538        0.500000                    8\n",
      "5      B.Brenly  75.750000   65.500000        0.536283                    7\n",
      "6    A.Pedrique  22.000000   61.000000        0.265060                    0\n",
      "7   B.Showalter  79.388889   73.055556        0.520773                   10\n",
      "8    F.Gonzalez  71.000000   69.200000        0.506419                    3\n",
      "9     B.Snitker  59.000000   65.000000        0.475806                    0\n",
      "10        B.Cox  86.344828   69.000000        0.555827                   48\n",
      "11      R.Nixon  46.200000   69.400000        0.399654                    0\n",
      "12     C.Tanner  71.157895   72.684211        0.494694                    5\n",
      "13       E.Haas  50.000000   71.000000        0.413223                    0\n",
      "14       B.Wine  16.000000   25.000000        0.390244                    0\n",
      "15      J.Torre  80.206897   68.862069        0.538052                   50\n",
      "16    D.Bristol  59.727273   69.454545        0.462350                    0\n",
      "17     T.Turner   0.000000    1.000000        0.000000                    0\n",
      "18     V.Benson   1.000000    0.000000        1.000000                    0\n",
      "19       C.King  46.800000   45.800000        0.505400                    0\n"
     ]
    }
   ],
   "source": [
    "# Aggregate the Playoff Scores for Each Manager\n",
    "playoff_scores = df.groupby('Manager_Name')['Playoff_Score'].sum().reset_index()\n",
    "\n",
    "# Rename the column for clarity\n",
    "playoff_scores.rename(columns={'Playoff_Score': 'Total_Playoff_Score'}, inplace=True)\n",
    "\n",
    "# Merge the aggregated playoff scores with manager_df\n",
    "manager_df = pd.merge(manager_df, playoff_scores, on='Manager_Name', how='left')\n",
    "\n",
    "# Print the updated manager_df with playoff scores\n",
    "print(manager_df.head(20))"
   ]
  },
  {
   "cell_type": "markdown",
   "metadata": {},
   "source": [
    "Checking who hasa the highest playoff score. Joe Torre is one of MLB's greatest managers and well in the top ten in various manager rankings."
   ]
  },
  {
   "cell_type": "code",
   "execution_count": 227,
   "metadata": {},
   "outputs": [
    {
     "name": "stdout",
     "output_type": "stream",
     "text": [
      "Highest Playoff Score: 50\n",
      "Manager(s) with the Highest Playoff Score:\n",
      "   Manager_Name  Total_Playoff_Score\n",
      "15      J.Torre                   50\n"
     ]
    }
   ],
   "source": [
    "# Find the manager with the highest playoff score\n",
    "highest_playoff_score = manager_df['Total_Playoff_Score'].max()\n",
    "highest_scoring_manager = manager_df[manager_df['Total_Playoff_Score'] == highest_playoff_score]\n",
    "\n",
    "print(f\"Highest Playoff Score: {highest_playoff_score}\")\n",
    "print(\"Manager(s) with the Highest Playoff Score:\")\n",
    "print(highest_scoring_manager[['Manager_Name', 'Total_Playoff_Score']])"
   ]
  },
  {
   "cell_type": "markdown",
   "metadata": {},
   "source": [
    "### 3. Calculate third metric for predicting managerial success: Total amount of World Series won by each Manager"
   ]
  },
  {
   "cell_type": "code",
   "execution_count": 229,
   "metadata": {},
   "outputs": [
    {
     "name": "stdout",
     "output_type": "stream",
     "text": [
      "   Manager_Name  Total_Championships_Won\n",
      "0        C.Hale                        0\n",
      "1      K.Gibson                        0\n",
      "2    A.Trammell                        0\n",
      "3       A.Hinch                        0\n",
      "4      B.Melvin                        0\n",
      "5      B.Brenly                        1\n",
      "6    A.Pedrique                        0\n",
      "7   B.Showalter                        0\n",
      "8    F.Gonzalez                        0\n",
      "9     B.Snitker                        0\n",
      "10        B.Cox                        1\n",
      "11      R.Nixon                        0\n",
      "12     C.Tanner                        1\n",
      "13       E.Haas                        0\n",
      "14       B.Wine                        0\n",
      "15      J.Torre                        4\n",
      "16    D.Bristol                        0\n",
      "17     T.Turner                        0\n",
      "18     V.Benson                        0\n",
      "19       C.King                        0\n",
      "Highest Total Championships Won: 7\n",
      "Manager(s) with the Highest Total Championships Won:\n",
      "    Manager_Name  Total_Championships_Won\n",
      "35     C.Stengel                        7\n",
      "117   J.McCarthy                        7\n"
     ]
    }
   ],
   "source": [
    "# Initialize a column for Total Championships Won in manager_df\n",
    "manager_df['Total_Championships_Won'] = 0\n",
    "\n",
    "# Count the championships for each manager\n",
    "for index, row in df.iterrows():\n",
    "    playoff_result = row['Playoff_Result']\n",
    "    manager_names = [name.strip() for name in row['Manager_Name'].split(',')]\n",
    "    \n",
    "    if 'Won WS' in playoff_result:\n",
    "        # Extract the number of championships won from the result\n",
    "        try:\n",
    "            # Find the part of the string that represents the number of games\n",
    "            # Example: 'Won WS (4-2)', extract '4'\n",
    "            num_championships = int(playoff_result.split(' ')[2].split('-')[0])\n",
    "        except ValueError:\n",
    "            num_championships = 1  # Default to 1 if the number cannot be parsed\n",
    "        \n",
    "        for manager in manager_names:\n",
    "            if manager in manager_df['Manager_Name'].values:\n",
    "                manager_df.loc[manager_df['Manager_Name'] == manager, 'Total_Championships_Won'] += num_championships\n",
    "\n",
    "# Print the updated manager_df with Total Championships Won\n",
    "print(manager_df[['Manager_Name', 'Total_Championships_Won']].head(20))\n",
    "\n",
    "highest_championships = manager_df['Total_Championships_Won'].max()\n",
    "highest_championship_manager = manager_df[manager_df['Total_Championships_Won'] == highest_championships]\n",
    "\n",
    "print(f\"Highest Total Championships Won: {highest_championships}\")\n",
    "print(\"Manager(s) with the Highest Total Championships Won:\")\n",
    "print(highest_championship_manager[['Manager_Name', 'Total_Championships_Won']])"
   ]
  },
  {
   "cell_type": "markdown",
   "metadata": {},
   "source": [
    "Both Joe McCarthy and Casey Stengel are on ESPN's Top Ten MLB Managers of all time, each with 7 World Series Titles. This validates that we achieved the third metric correctly. "
   ]
  },
  {
   "cell_type": "code",
   "execution_count": 239,
   "metadata": {},
   "outputs": [
    {
     "name": "stdout",
     "output_type": "stream",
     "text": [
      "   Manager_Name  Wins  Losses Win_Loss_Record   Playoff_Result  Playoff_Score  \\\n",
      "0        C.Hale    69      93           69-93  Did not make it              0   \n",
      "1        C.Hale    79      83           79-83  Did not make it              0   \n",
      "2      K.Gibson    63      96           63-96  Did not make it              0   \n",
      "3    A.Trammell     1       2             1-2  Did not make it              0   \n",
      "4      K.Gibson    81      81           81-81  Did not make it              0   \n",
      "5      K.Gibson    81      81           81-81  Did not make it              0   \n",
      "6      K.Gibson    94      68           94-68   Lost LDS (3-2)              2   \n",
      "7       A.Hinch    31      48           31-48  Did not make it              0   \n",
      "8      K.Gibson    34      49           34-49  Did not make it              0   \n",
      "9      B.Melvin    12      17           12-17  Did not make it              0   \n",
      "10      A.Hinch    58      75           58-75  Did not make it              0   \n",
      "11     B.Melvin    82      80           82-80  Did not make it              0   \n",
      "12     B.Melvin    90      72           90-72  Lost NLCS (4-0)              3   \n",
      "13     B.Melvin    76      86           76-86  Did not make it              0   \n",
      "14     B.Melvin    77      85           77-85  Did not make it              0   \n",
      "15     B.Brenly    29      50           29-50  Did not make it              0   \n",
      "16   A.Pedrique    22      61           22-61  Did not make it              0   \n",
      "17     B.Brenly    84      78           84-78  Did not make it              0   \n",
      "18     B.Brenly    98      64           98-64   Lost LDS (3-0)              2   \n",
      "19     B.Brenly    92      70           92-70     Won WS (4-3)              5   \n",
      "\n",
      "    Year                  Team  \n",
      "0   2016  Arizona Diamondbacks  \n",
      "1   2015  Arizona Diamondbacks  \n",
      "2   2014  Arizona Diamondbacks  \n",
      "3   2014  Arizona Diamondbacks  \n",
      "4   2013  Arizona Diamondbacks  \n",
      "5   2012  Arizona Diamondbacks  \n",
      "6   2011  Arizona Diamondbacks  \n",
      "7   2010  Arizona Diamondbacks  \n",
      "8   2010  Arizona Diamondbacks  \n",
      "9   2009  Arizona Diamondbacks  \n",
      "10  2009  Arizona Diamondbacks  \n",
      "11  2008  Arizona Diamondbacks  \n",
      "12  2007  Arizona Diamondbacks  \n",
      "13  2006  Arizona Diamondbacks  \n",
      "14  2005  Arizona Diamondbacks  \n",
      "15  2004  Arizona Diamondbacks  \n",
      "16  2004  Arizona Diamondbacks  \n",
      "17  2003  Arizona Diamondbacks  \n",
      "18  2002  Arizona Diamondbacks  \n",
      "19  2001  Arizona Diamondbacks  \n"
     ]
    }
   ],
   "source": [
    "print(df.head(20))"
   ]
  },
  {
   "cell_type": "markdown",
   "metadata": {},
   "source": [
    "### 4. Calculate fourth and final metric for predicting managerial success: Manager Average in direct comparison to Team's historical average"
   ]
  },
  {
   "cell_type": "code",
   "execution_count": 243,
   "metadata": {},
   "outputs": [
    {
     "name": "stdout",
     "output_type": "stream",
     "text": [
      "   Manager_Name  Wins  Losses Win_Loss_Record   Playoff_Result  Playoff_Score  \\\n",
      "0        C.Hale    69      93           69-93  Did not make it              0   \n",
      "1        C.Hale    79      83           79-83  Did not make it              0   \n",
      "2      K.Gibson    63      96           63-96  Did not make it              0   \n",
      "3    A.Trammell     1       2             1-2  Did not make it              0   \n",
      "4      K.Gibson    81      81           81-81  Did not make it              0   \n",
      "5      K.Gibson    81      81           81-81  Did not make it              0   \n",
      "6      K.Gibson    94      68           94-68   Lost LDS (3-2)              2   \n",
      "7       A.Hinch    31      48           31-48  Did not make it              0   \n",
      "8      K.Gibson    34      49           34-49  Did not make it              0   \n",
      "9      B.Melvin    12      17           12-17  Did not make it              0   \n",
      "10      A.Hinch    58      75           58-75  Did not make it              0   \n",
      "11     B.Melvin    82      80           82-80  Did not make it              0   \n",
      "12     B.Melvin    90      72           90-72  Lost NLCS (4-0)              3   \n",
      "13     B.Melvin    76      86           76-86  Did not make it              0   \n",
      "14     B.Melvin    77      85           77-85  Did not make it              0   \n",
      "15     B.Brenly    29      50           29-50  Did not make it              0   \n",
      "16   A.Pedrique    22      61           22-61  Did not make it              0   \n",
      "17     B.Brenly    84      78           84-78  Did not make it              0   \n",
      "18     B.Brenly    98      64           98-64   Lost LDS (3-0)              2   \n",
      "19     B.Brenly    92      70           92-70     Won WS (4-3)              5   \n",
      "\n",
      "    Year                  Team  Win_Percentage  \\\n",
      "0   2016  Arizona Diamondbacks        0.425926   \n",
      "1   2015  Arizona Diamondbacks        0.487654   \n",
      "2   2014  Arizona Diamondbacks        0.396226   \n",
      "3   2014  Arizona Diamondbacks        0.333333   \n",
      "4   2013  Arizona Diamondbacks        0.500000   \n",
      "5   2012  Arizona Diamondbacks        0.500000   \n",
      "6   2011  Arizona Diamondbacks        0.580247   \n",
      "7   2010  Arizona Diamondbacks        0.392405   \n",
      "8   2010  Arizona Diamondbacks        0.409639   \n",
      "9   2009  Arizona Diamondbacks        0.413793   \n",
      "10  2009  Arizona Diamondbacks        0.436090   \n",
      "11  2008  Arizona Diamondbacks        0.506173   \n",
      "12  2007  Arizona Diamondbacks        0.555556   \n",
      "13  2006  Arizona Diamondbacks        0.469136   \n",
      "14  2005  Arizona Diamondbacks        0.475309   \n",
      "15  2004  Arizona Diamondbacks        0.367089   \n",
      "16  2004  Arizona Diamondbacks        0.265060   \n",
      "17  2003  Arizona Diamondbacks        0.518519   \n",
      "18  2002  Arizona Diamondbacks        0.604938   \n",
      "19  2001  Arizona Diamondbacks        0.567901   \n",
      "\n",
      "    Historical_Average_Win_Percentage  Relative_Performance  \n",
      "0                            0.467313             -0.041387  \n",
      "1                            0.467313              0.020341  \n",
      "2                            0.467313             -0.071087  \n",
      "3                            0.467313             -0.133980  \n",
      "4                            0.467313              0.032687  \n",
      "5                            0.467313              0.032687  \n",
      "6                            0.467313              0.112934  \n",
      "7                            0.467313             -0.074908  \n",
      "8                            0.467313             -0.057675  \n",
      "9                            0.467313             -0.053520  \n",
      "10                           0.467313             -0.031223  \n",
      "11                           0.467313              0.038860  \n",
      "12                           0.467313              0.088242  \n",
      "13                           0.467313              0.001823  \n",
      "14                           0.467313              0.007995  \n",
      "15                           0.467313             -0.100225  \n",
      "16                           0.467313             -0.202253  \n",
      "17                           0.467313              0.051205  \n",
      "18                           0.467313              0.137625  \n",
      "19                           0.467313              0.100588  \n"
     ]
    }
   ],
   "source": [
    "# Calculate win percentages\n",
    "df['Win_Percentage'] = df['Wins'] / (df['Wins'] + df['Losses'])\n",
    "\n",
    "# Calculate the average win percentage for each team\n",
    "team_averages = df.groupby('Team')['Win_Percentage'].mean().reset_index()\n",
    "team_averages.columns = ['Team', 'Historical_Average_Win_Percentage']\n",
    "\n",
    "# Merge the historical averages back into the main DataFrame\n",
    "df = pd.merge(df, team_averages, on='Team', how='left')\n",
    "\n",
    "# Calculate the relative performance metric\n",
    "df['Relative_Performance'] = df['Win_Percentage'] - df['Historical_Average_Win_Percentage']\n",
    "\n",
    "# Print the updated DataFrame, showing each manager with their own respective Relative_Performance \n",
    "print(df.head(20))"
   ]
  },
  {
   "cell_type": "markdown",
   "metadata": {},
   "source": [
    "Average Relative Performance for each manager is calculated and then merged in to manager_df"
   ]
  },
  {
   "cell_type": "code",
   "execution_count": 245,
   "metadata": {},
   "outputs": [
    {
     "name": "stdout",
     "output_type": "stream",
     "text": [
      "   Manager_Name   Avg_Wins  Avg_Losses  Win_Percentage  Total_Playoff_Score  \\\n",
      "0        C.Hale  74.000000   88.000000        0.456790                    0   \n",
      "1      K.Gibson  70.600000   75.000000        0.484890                    2   \n",
      "2    A.Trammell  46.750000   75.500000        0.382413                    0   \n",
      "3       A.Hinch  64.750000   69.250000        0.483209                    2   \n",
      "4      B.Melvin  73.461538   73.461538        0.500000                    8   \n",
      "5      B.Brenly  75.750000   65.500000        0.536283                    7   \n",
      "6    A.Pedrique  22.000000   61.000000        0.265060                    0   \n",
      "7   B.Showalter  79.388889   73.055556        0.520773                   10   \n",
      "8    F.Gonzalez  71.000000   69.200000        0.506419                    3   \n",
      "9     B.Snitker  59.000000   65.000000        0.475806                    0   \n",
      "10        B.Cox  86.344828   69.000000        0.555827                   48   \n",
      "11      R.Nixon  46.200000   69.400000        0.399654                    0   \n",
      "12     C.Tanner  71.157895   72.684211        0.494694                    5   \n",
      "13       E.Haas  50.000000   71.000000        0.413223                    0   \n",
      "14       B.Wine  16.000000   25.000000        0.390244                    0   \n",
      "15      J.Torre  80.206897   68.862069        0.538052                   50   \n",
      "16    D.Bristol  59.727273   69.454545        0.462350                    0   \n",
      "17     T.Turner   0.000000    1.000000        0.000000                    0   \n",
      "18     V.Benson   1.000000    0.000000        1.000000                    0   \n",
      "19       C.King  46.800000   45.800000        0.505400                    0   \n",
      "\n",
      "    Total_Championships_Won  Average_Relative_Performance  \n",
      "0                         0                     -0.010523  \n",
      "1                         0                      0.009909  \n",
      "2                         0                     -0.130054  \n",
      "3                         0                     -0.010041  \n",
      "4                         0                      0.024527  \n",
      "5                         1                      0.047298  \n",
      "6                         0                     -0.202253  \n",
      "7                         0                      0.034355  \n",
      "8                         0                      0.000987  \n",
      "9                         0                     -0.017255  \n",
      "10                        1                      0.059545  \n",
      "11                        0                     -0.106097  \n",
      "12                        1                     -0.019907  \n",
      "13                        0                     -0.079838  \n",
      "14                        0                     -0.102818  \n",
      "15                        4                      0.010401  \n",
      "16                        0                     -0.048967  \n",
      "17                        0                     -0.493062  \n",
      "18                        0                      0.506938  \n",
      "19                        0                     -0.018019  \n"
     ]
    }
   ],
   "source": [
    "# Calculate the average relative performance for each manager\n",
    "manager_relative_performance = df.groupby('Manager_Name')['Relative_Performance'].mean().reset_index()\n",
    "manager_relative_performance.columns = ['Manager_Name', 'Average_Relative_Performance']\n",
    "\n",
    "# Merge the average relative performance back into the manager_df\n",
    "manager_df = pd.merge(manager_df, manager_relative_performance, on='Manager_Name', how='left')\n",
    "\n",
    "# Print the updated manager_df\n",
    "print(manager_df.head(20))"
   ]
  },
  {
   "cell_type": "markdown",
   "metadata": {},
   "source": [
    "### Normalize Metrics for better Predictive Model using scaler"
   ]
  },
  {
   "cell_type": "code",
   "execution_count": 251,
   "metadata": {},
   "outputs": [
    {
     "name": "stdout",
     "output_type": "stream",
     "text": [
      "   Manager_Name   Avg_Wins  Avg_Losses  Win_Percentage  Total_Playoff_Score  \\\n",
      "0        C.Hale  74.000000   88.000000        0.456790                 0.00   \n",
      "1      K.Gibson  70.600000   75.000000        0.484890                 0.04   \n",
      "2    A.Trammell  46.750000   75.500000        0.382413                 0.00   \n",
      "3       A.Hinch  64.750000   69.250000        0.483209                 0.04   \n",
      "4      B.Melvin  73.461538   73.461538        0.500000                 0.16   \n",
      "5      B.Brenly  75.750000   65.500000        0.536283                 0.14   \n",
      "6    A.Pedrique  22.000000   61.000000        0.265060                 0.00   \n",
      "7   B.Showalter  79.388889   73.055556        0.520773                 0.20   \n",
      "8    F.Gonzalez  71.000000   69.200000        0.506419                 0.06   \n",
      "9     B.Snitker  59.000000   65.000000        0.475806                 0.00   \n",
      "10        B.Cox  86.344828   69.000000        0.555827                 0.96   \n",
      "11      R.Nixon  46.200000   69.400000        0.399654                 0.00   \n",
      "12     C.Tanner  71.157895   72.684211        0.494694                 0.10   \n",
      "13       E.Haas  50.000000   71.000000        0.413223                 0.00   \n",
      "14       B.Wine  16.000000   25.000000        0.390244                 0.00   \n",
      "15      J.Torre  80.206897   68.862069        0.538052                 1.00   \n",
      "16    D.Bristol  59.727273   69.454545        0.462350                 0.00   \n",
      "17     T.Turner   0.000000    1.000000        0.000000                 0.00   \n",
      "18     V.Benson   1.000000    0.000000        1.000000                 0.00   \n",
      "19       C.King  46.800000   45.800000        0.505400                 0.00   \n",
      "\n",
      "    Total_Championships_Won  Average_Relative_Performance  \\\n",
      "0                  0.000000                     -0.010523   \n",
      "1                  0.000000                      0.009909   \n",
      "2                  0.000000                     -0.130054   \n",
      "3                  0.000000                     -0.010041   \n",
      "4                  0.000000                      0.024527   \n",
      "5                  0.142857                      0.047298   \n",
      "6                  0.000000                     -0.202253   \n",
      "7                  0.000000                      0.034355   \n",
      "8                  0.000000                      0.000987   \n",
      "9                  0.000000                     -0.017255   \n",
      "10                 0.142857                      0.059545   \n",
      "11                 0.000000                     -0.106097   \n",
      "12                 0.142857                     -0.019907   \n",
      "13                 0.000000                     -0.079838   \n",
      "14                 0.000000                     -0.102818   \n",
      "15                 0.571429                      0.010401   \n",
      "16                 0.000000                     -0.048967   \n",
      "17                 0.000000                     -0.493062   \n",
      "18                 0.000000                      0.506938   \n",
      "19                 0.000000                     -0.018019   \n",
      "\n",
      "    Scaled_Relative_Performance  \n",
      "0                      0.479102  \n",
      "1                      0.498744  \n",
      "2                      0.364192  \n",
      "3                      0.479566  \n",
      "4                      0.512797  \n",
      "5                      0.534688  \n",
      "6                      0.294785  \n",
      "7                      0.522245  \n",
      "8                      0.490168  \n",
      "9                      0.472630  \n",
      "10                     0.546461  \n",
      "11                     0.387224  \n",
      "12                     0.470081  \n",
      "13                     0.412467  \n",
      "14                     0.390376  \n",
      "15                     0.499217  \n",
      "16                     0.442144  \n",
      "17                     0.015219  \n",
      "18                     0.976558  \n",
      "19                     0.471896  \n"
     ]
    }
   ],
   "source": [
    "# Scale the 'Average_Relative_Performance'\n",
    "manager_df['Scaled_Relative_Performance'] = manager_df['Average_Relative_Performance'] * 100\n",
    "\n",
    "# Create a MinMaxScaler object\n",
    "scaler = MinMaxScaler()\n",
    "\n",
    "columns_to_normalize = ['Win_Percentage', 'Total_Playoff_Score', 'Total_Championships_Won', 'Scaled_Relative_Performance']\n",
    "\n",
    "# Apply the scaler to the selected columns \n",
    "manager_df[columns_to_normalize] = scaler.fit_transform(manager_df[columns_to_normalize])\n",
    "\n",
    "print(manager_df.head(20))"
   ]
  },
  {
   "cell_type": "markdown",
   "metadata": {},
   "source": [
    "### Create weights for Composite Score to be used in Model"
   ]
  },
  {
   "cell_type": "code",
   "execution_count": 273,
   "metadata": {},
   "outputs": [
    {
     "name": "stdout",
     "output_type": "stream",
     "text": [
      "     Manager_Name  Composite_Score\n",
      "0          C.Hale         0.134932\n",
      "1        K.Gibson         0.155449\n",
      "2      A.Trammell         0.088713\n",
      "3         A.Hinch         0.150955\n",
      "4        B.Melvin         0.186905\n",
      "..            ...              ...\n",
      "570  R.Hartsfield         0.071597\n",
      "571    M.Williams         0.187421\n",
      "572    T.Runnells         0.131581\n",
      "573     J.Fanning         0.180099\n",
      "574       K.Kuehl         0.071156\n",
      "\n",
      "[575 rows x 2 columns]\n"
     ]
    }
   ],
   "source": [
    "# Define weights for each metric\n",
    "weights = {\n",
    "    'Win_Percentage': 0.3,\n",
    "    'Total_Playoff_Score': 0.2,\n",
    "    'Total_Championships_Won': 0.3,\n",
    "    'Average_Relative_Performance': 0.2\n",
    "}\n",
    "\n",
    "# Calculate the composite score\n",
    "manager_df['Composite_Score'] = (\n",
    "    weights['Win_Percentage'] * manager_df['Win_Percentage'] +\n",
    "    weights['Total_Playoff_Score'] * manager_df['Total_Playoff_Score'] +\n",
    "    weights['Total_Championships_Won'] * manager_df['Total_Championships_Won'] +\n",
    "    weights['Average_Relative_Performance'] * manager_df['Average_Relative_Performance']\n",
    ")\n",
    "\n",
    "print(manager_df[['Manager_Name','Composite_Score']])"
   ]
  },
  {
   "cell_type": "markdown",
   "metadata": {},
   "source": [
    "### Begin working with Predicting Model on Training and Test Data"
   ]
  },
  {
   "cell_type": "code",
   "execution_count": 275,
   "metadata": {},
   "outputs": [
    {
     "name": "stdout",
     "output_type": "stream",
     "text": [
      "Mean Squared Error: 2.2564515174311576e-05\n",
      "    Manager_Name  Predicted_Score  Rank\n",
      "117   J.McCarthy         0.617717   1.0\n",
      "35     C.Stengel         0.596033   2.0\n",
      "15       J.Torre         0.522616   3.0\n",
      "192   T.La Russa         0.473969   4.0\n",
      "352     W.Alston         0.471648   5.0\n",
      "429       C.Mack         0.466592   6.0\n",
      "493     J.McGraw         0.449836   7.0\n",
      "10         B.Cox         0.408414   8.0\n",
      "441      A.Cohen         0.404638   9.0\n",
      "557     D.Wilber         0.402114  10.0\n",
      "18      V.Benson         0.401310  11.0\n",
      "466    B.Burwell         0.401174  12.0\n",
      "414    M.Huggins         0.397595  13.0\n",
      "295  D.Tracewski         0.397232  14.0\n",
      "278       B.Falk         0.396627  16.0\n",
      "273      J.White         0.396627  16.0\n",
      "271     M.Harder         0.396627  16.0\n",
      "227   S.Anderson         0.395929  18.0\n",
      "354  C.Sukeforth         0.395237  19.0\n",
      "484      B.Bochy         0.385954  20.0\n"
     ]
    }
   ],
   "source": [
    "# Prepare features and target\n",
    "features = ['Win_Percentage', 'Total_Playoff_Score', 'Total_Championships_Won', 'Average_Relative_Performance']\n",
    "target = 'Composite_Score'\n",
    "\n",
    "# Split data into training and testing sets\n",
    "X = manager_df[features]\n",
    "y = manager_df[target]\n",
    "\n",
    "# Use a portion of the data for training and a portion for testing\n",
    "X_train, X_test, y_train, y_test = train_test_split(X, y, test_size=0.2, random_state=42)\n",
    "\n",
    "# Initialize and train the model\n",
    "model = RandomForestRegressor(n_estimators=100, random_state=42)\n",
    "model.fit(X_train, y_train)\n",
    "\n",
    "# Predict on the test set\n",
    "y_pred = model.predict(X_test)\n",
    "mse = mean_squared_error(y_test, y_pred)\n",
    "print(f'Mean Squared Error: {mse}')\n",
    "\n",
    "# Predict for all managers\n",
    "manager_df['Predicted_Score'] = model.predict(X[features])\n",
    "\n",
    "# Rank managers based on predicted score\n",
    "manager_df['Rank'] = manager_df['Predicted_Score'].rank(ascending=False)\n",
    "\n",
    "# Get the top 20 managers based on predictions\n",
    "top_20_managers = manager_df.sort_values(by='Rank').head(20)\n",
    "print(top_20_managers[['Manager_Name', 'Predicted_Score', 'Rank']])"
   ]
  },
  {
   "cell_type": "markdown",
   "metadata": {},
   "source": [
    "## Compare Results of Model with Online MLB Rankings:\n",
    "\n",
    "<div style=\"display: flex;\">\n",
    "\n",
    "<div style=\"flex: 1; padding: 10px;\">\n",
    "<h3>Predictive Model Rankings</h2>\n",
    "<ol>\n",
    "  <li>Joe McCarthy</li>\n",
    "  <li>Casey Stengel</li>\n",
    "  <li>Joe Torre</li>\n",
    "  <li>Tony La Russa</li>\n",
    "  <li>Walter Alston</li>\n",
    "  <li>Connie Mack</li>\n",
    "  <li>John McGraw</li>\n",
    "  <li>Bobby Cox</li>\n",
    "  <li>Andy Cohen</li>\n",
    "  <li>Del Wilber</li>\n",
    "</ol>\n",
    "</div>\n",
    "\n",
    "<div style=\"flex: 1; padding: 10px;\">\n",
    "<h3>Online MLB Manager Rankings</h2>\n",
    "<ol>\n",
    "  <li>Joe McCarthy</li>\n",
    "  <li>John McGraw</li>\n",
    "  <li>Walter Alston</li>\n",
    "  <li>Sparky Anderson</li>\n",
    "  <li>Tony La Russa</li>\n",
    "  <li>Joe Torre</li>\n",
    "  <li>Miller Huggins</li>\n",
    "  <li>Casey Stengel</li>\n",
    "  <li>Connie Mack</li>\n",
    "  <li>Bobby Cox</li>\n",
    "</ol>\n",
    "</div>\n",
    "\n",
    "</div>"
   ]
  },
  {
   "cell_type": "markdown",
   "metadata": {},
   "source": [
    "Both rankings highlight the exceptional careers of Joe McCarthy, Joe Torre, Tony La Russa, Walter Alston, Connie Mack, John McGraw, Casey Stengel, and Bobby Cox, indicating a consensus on these managers' successes. However, the predictive model places Andy Cohen and Del Wilber in the top 10, while the online rankings include Sparky Anderson and Miller Huggins instead. This divergence could be due to different metrics and evaluation methods used by the predictive model, which may emphasize certain performance indicators over others.\n",
    "\n",
    "One primary difference between the online MLB Manager Rankings and the ones made from the Predictive Model is the inclusion of Average Relative Performance. This metric allows managers who significantly improved their MLB team to have a higher ranking in comparision to those who may have had lower winning percentages with the team in comparison to other coaches for the same team"
   ]
  }
 ],
 "metadata": {
  "kernelspec": {
   "display_name": "Python 3 (ipykernel)",
   "language": "python",
   "name": "python3"
  },
  "language_info": {
   "codemirror_mode": {
    "name": "ipython",
    "version": 3
   },
   "file_extension": ".py",
   "mimetype": "text/x-python",
   "name": "python",
   "nbconvert_exporter": "python",
   "pygments_lexer": "ipython3",
   "version": "3.11.5"
  },
  "vscode": {
   "interpreter": {
    "hash": "7b63700a7479ca494b09cb94f65ff43e6df18b3e5067a4f3d4ae63f32d2fcb1e"
   }
  }
 },
 "nbformat": 4,
 "nbformat_minor": 4
}
